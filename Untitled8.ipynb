{
  "nbformat": 4,
  "nbformat_minor": 0,
  "metadata": {
    "colab": {
      "provenance": []
    },
    "kernelspec": {
      "name": "python3",
      "display_name": "Python 3"
    },
    "language_info": {
      "name": "python"
    }
  },
  "cells": [
    {
      "cell_type": "code",
      "execution_count": 1,
      "metadata": {
        "colab": {
          "base_uri": "https://localhost:8080/",
          "height": 111
        },
        "id": "IOKbzSj2ku7p",
        "outputId": "bfe4271e-358f-4997-d6dc-f4e56f361ea6"
      },
      "outputs": [
        {
          "output_type": "error",
          "ename": "SyntaxError",
          "evalue": "incomplete input (ipython-input-500218846.py, line 9)",
          "traceback": [
            "\u001b[0;36m  File \u001b[0;32m\"/tmp/ipython-input-500218846.py\"\u001b[0;36m, line \u001b[0;32m9\u001b[0m\n\u001b[0;31m    app_code = r\"\"\"\u001b[0m\n\u001b[0m               ^\u001b[0m\n\u001b[0;31mSyntaxError\u001b[0m\u001b[0;31m:\u001b[0m incomplete input\n"
          ]
        }
      ],
      "source": [
        "# ================================================\n",
        "# 1. Install dependencies\n",
        "# ================================================\n",
        "!pip install streamlit requests python-dotenv ibm-watson ibm-cloud-sdk-core pyngrok -q\n",
        "\n",
        "# ================================================\n",
        "# 2. Create app.py (Streamlit chatbot)\n",
        "# ================================================\n",
        "app_code = r\"\"\"\n",
        "import os\n",
        "import time\n",
        "import requests\n",
        "import streamlit as st\n",
        "from dotenv import load_dotenv\n",
        "from ibm_watson import AssistantV2\n",
        "from ibm_cloud_sdk_core.authenticators import IAMAuthenticator\n",
        "\n",
        "# -----------------------------\n",
        "# Load environment variables\n",
        "# -----------------------------\n",
        "load_dotenv()\n",
        "HF_TOKEN = os.getenv(\"HUGGINGFACE_API_TOKEN\")\n",
        "HF_MODEL = os.getenv(\"HUGGINGFACE_MODEL\", \"ibm-granite/granite-13b-instruct\")\n",
        "\n",
        "WATSON_API_KEY = os.getenv(\"WATSON_API_KEY\")\n",
        "WATSON_URL = os.getenv(\"WATSON_URL\")\n",
        "WATSON_ASSISTANT_ID = os.getenv(\"WATSON_ASSISTANT_ID\")\n",
        "\n",
        "DISCLAIMER = \"\\\\n\\\\n*Disclaimer:* This is general financial information, not personalized advice.\"\n",
        "\n",
        "# -----------------------------\n",
        "# Streamlit page setup\n",
        "# -----------------------------\n",
        "st.set_page_config(page_title=\"💰 Personal Finance Chatbot\", page_icon=\"💰\", layout=\"centered\")\n",
        "st.title(\"💰 Personal Finance Guidance Chatbot\")\n",
        "\n",
        "if \"messages\" not in st.session_state:\n",
        "    st.session_state.messages = []\n",
        "\n",
        "# -----------------------------\n",
        "# Watson Assistant setup\n",
        "# -----------------------------\n",
        "def init_watson():\n",
        "    if not (WATSON_API_KEY and WATSON_URL and WATSON_ASSISTANT_ID):\n",
        "        return None, None\n",
        "    authenticator = IAMAuthenticator(WATSON_API_KEY)\n",
        "    assistant = AssistantV2(version=\"2021-06-14\", authenticator=authenticator)\n",
        "    assistant.set_service_url(WATSON_URL)\n",
        "    session_id = assistant.create_session(assistant_id=WATSON_ASSISTANT_ID).get_result()[\"session_id\"]\n",
        "    return assistant, session_id\n",
        "\n",
        "if \"watson\" not in st.session_state:\n",
        "    st.session_state.watson, st.session_state.watson_session = init_watson()\n",
        "\n",
        "# --- FIXED Watson intent (safe) ---\n",
        "def watson_intent(user_text):\n",
        "    if not st.session_state.watson:\n",
        "        return None, \"\"\n",
        "    try:\n",
        "        resp = st.session_state.watson.message(\n",
        "            assistant_id=WATSON_ASSISTANT_ID,\n",
        "            session_id=st.session"
      ]
    }
  ]
}